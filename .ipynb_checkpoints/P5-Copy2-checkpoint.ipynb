{
 "cells": [
  {
   "cell_type": "code",
   "execution_count": 4,
   "metadata": {
    "collapsed": false
   },
   "outputs": [
    {
     "name": "stderr",
     "output_type": "stream",
     "text": [
      "/Users/Haleh/anaconda/lib/python2.7/site-packages/sklearn/cross_validation.py:44: DeprecationWarning: This module was deprecated in version 0.18 in favor of the model_selection module into which all the refactored classes and functions are moved. Also note that the interface of the new CV iterators are different from that of this module. This module will be removed in 0.20.\n",
      "  \"This module will be removed in 0.20.\", DeprecationWarning)\n"
     ]
    }
   ],
   "source": [
    "import pprint\n",
    "import sys\n",
    "import pickle\n",
    "from tester import dump_classifier_and_data\n",
    "import sys\n",
    "import pandas as pd\n",
    "import numpy as np\n",
    "from sklearn.pipeline import Pipeline\n",
    "from sklearn.preprocessing import MinMaxScaler\n",
    "from sklearn.feature_selection import SelectKBest\n",
    "from sklearn.model_selection import GridSearchCV\n",
    "from sklearn import linear_model\n",
    "from sklearn.svm import SVC\n",
    "from sklearn.naive_bayes import GaussianNB\n",
    "from sklearn.tree import DecisionTreeClassifier\n",
    "from sklearn.neighbors import KNeighborsClassifier\n",
    "from sklearn.cross_validation import train_test_split\n",
    "from sklearn.metrics import classification_report\n",
    "from sklearn.metrics import confusion_matrix\n",
    "from sklearn.decomposition import RandomizedPCA\n",
    "from time import time\n",
    "import pylab as pl\n",
    "from feature_format import featureFormat\n",
    "from feature_format import targetFeatureSplit\n",
    "from sklearn.metrics import accuracy_score\n",
    "from sklearn.model_selection import train_test_split\n",
    "from sklearn import metrics\n",
    "from sklearn.metrics import confusion_matrix\n",
    "from sklearn.decomposition import PCA\n",
    "from __future__ import print_function, division\n",
    "import numpy as np\n",
    "import matplotlib.pyplot as plt\n",
    "from sklearn.datasets import load_digits\n",
    "from sklearn.model_selection import GridSearchCV\n",
    "from sklearn.pipeline import Pipeline\n",
    "from sklearn.svm import LinearSVC\n",
    "from sklearn.decomposition import PCA, NMF\n",
    "from sklearn.feature_selection import SelectKBest, chi2\n"
   ]
  },
  {
   "cell_type": "code",
   "execution_count": null,
   "metadata": {
    "collapsed": false
   },
   "outputs": [],
   "source": []
  },
  {
   "cell_type": "code",
   "execution_count": 5,
   "metadata": {
    "collapsed": false
   },
   "outputs": [],
   "source": [
    "# %load poi_id.py\n",
    "#!/usr/bin/python\n",
    "sys.path.append(\"../tools/\")\n",
    "\n",
    "### Load the dictionary containing the dataset\n",
    "with open(\"final_project_dataset.pkl\", \"r\") as data_file:\n",
    "    data_dict = pickle.load(data_file)"
   ]
  },
  {
   "cell_type": "markdown",
   "metadata": {},
   "source": [
    "## Task 1: Select what features you'll use.\n",
    "features_list is a list of strings, each of which is a feature name.<br>\n",
    "The first feature must be \"poi\".<br>\n",
    "You will need to use more features"
   ]
  },
  {
   "cell_type": "code",
   "execution_count": 6,
   "metadata": {
    "collapsed": true
   },
   "outputs": [],
   "source": [
    "### Task 1: Select what features you'll use.\n",
    "\n",
    "features_list = ['poi',\n",
    "                 'salary',\n",
    "                 'deferral_payments',\n",
    "                 'total_payments',\n",
    "                 'loan_advances',\n",
    "                 'bonus',\n",
    "                 'restricted_stock_deferred',\n",
    "                 'bonus_salary_R',\n",
    "                 'restricted_stock_deferred',\n",
    "                 'deferred_income',\n",
    "                 'total_stock_value',\n",
    "                 'expenses',\n",
    "                 'exercised_stock_options',\n",
    "                 'other',\n",
    "                 'long_term_incentive',\n",
    "                 'restricted_stock',\n",
    "                 'director_fees',\n",
    "                 'to_messages',\n",
    "                 'from_poi_to_this_person',\n",
    "                 'from_poi_to_this_person_Percent',                 \n",
    "                 'from_messages',\n",
    "                 'from_this_person_to_poi',\n",
    "                 'from_this_person_to_poi_percent',\n",
    "                 'shared_receipt_with_poi']\n"
   ]
  },
  {
   "cell_type": "markdown",
   "metadata": {},
   "source": [
    "## Task 2: Remove outliers\n",
    "based on mini-project in outlier lessons, i know there is a key \"Total\", which holds the total value for all other values. <br>\n",
    "Another one is the key \"THE TRAVEL AGENCY IN THE PARK\".<br>\n",
    "I'm going to exclude both of them\n",
    "\n"
   ]
  },
  {
   "cell_type": "code",
   "execution_count": 7,
   "metadata": {
    "collapsed": false
   },
   "outputs": [
    {
     "name": "stdout",
     "output_type": "stream",
     "text": [
      "['METTS MARK',\n",
      " 'BAXTER JOHN C',\n",
      " 'ELLIOTT STEVEN',\n",
      " 'CORDES WILLIAM R',\n",
      " 'HANNON KEVIN P',\n",
      " 'MORDAUNT KRISTINA M',\n",
      " 'MEYER ROCKFORD G',\n",
      " 'MCMAHON JEFFREY',\n",
      " 'HORTON STANLEY C',\n",
      " 'PIPER GREGORY F',\n",
      " 'HUMPHREY GENE E',\n",
      " 'UMANOFF ADAM S',\n",
      " 'BLACHMAN JEREMY M',\n",
      " 'SUNDE MARTIN',\n",
      " 'GIBBS DANA R',\n",
      " 'LOWRY CHARLES P',\n",
      " 'COLWELL WESLEY',\n",
      " 'MULLER MARK S',\n",
      " 'JACKSON CHARLENE R',\n",
      " 'WESTFAHL RICHARD K',\n",
      " 'WALTERS GARETH W',\n",
      " 'WALLS JR ROBERT H',\n",
      " 'KITCHEN LOUISE',\n",
      " 'CHAN RONNIE',\n",
      " 'BELFER ROBERT',\n",
      " 'SHANKMAN JEFFREY A',\n",
      " 'WODRASKA JOHN',\n",
      " 'BERGSIEKER RICHARD P',\n",
      " 'URQUHART JOHN A',\n",
      " 'BIBI PHILIPPE A',\n",
      " 'RIEKER PAULA H',\n",
      " 'WHALEY DAVID A',\n",
      " 'BECK SALLY W',\n",
      " 'HAUG DAVID L',\n",
      " 'ECHOLS JOHN B',\n",
      " 'MENDELSOHN JOHN',\n",
      " 'HICKERSON GARY J',\n",
      " 'CLINE KENNETH W',\n",
      " 'LEWIS RICHARD',\n",
      " 'HAYES ROBERT E',\n",
      " 'MCCARTY DANNY J',\n",
      " 'KOPPER MICHAEL J',\n",
      " 'LEFF DANIEL P',\n",
      " 'LAVORATO JOHN J',\n",
      " 'BERBERIAN DAVID',\n",
      " 'DETMERING TIMOTHY J',\n",
      " 'WAKEHAM JOHN',\n",
      " 'POWERS WILLIAM',\n",
      " 'GOLD JOSEPH',\n",
      " 'BANNANTINE JAMES M',\n",
      " 'DUNCAN JOHN H',\n",
      " 'SHAPIRO RICHARD S',\n",
      " 'SHERRIFF JOHN R',\n",
      " 'SHELBY REX',\n",
      " 'LEMAISTRE CHARLES',\n",
      " 'DEFFNER JOSEPH M',\n",
      " 'KISHKILL JOSEPH G',\n",
      " 'WHALLEY LAWRENCE G',\n",
      " 'MCCONNELL MICHAEL S',\n",
      " 'PIRO JIM',\n",
      " 'DELAINEY DAVID W',\n",
      " 'SULLIVAN-SHAKLOVITZ COLLEEN',\n",
      " 'WROBEL BRUCE',\n",
      " 'LINDHOLM TOD A',\n",
      " 'MEYER JEROME J',\n",
      " 'LAY KENNETH L',\n",
      " 'BUTTS ROBERT H',\n",
      " 'OLSON CINDY K',\n",
      " 'MCDONALD REBECCA',\n",
      " 'CUMBERLAND MICHAEL S',\n",
      " 'GAHN ROBERT S',\n",
      " 'MCCLELLAN GEORGE',\n",
      " 'HERMANN ROBERT J',\n",
      " 'SCRIMSHAW MATTHEW',\n",
      " 'GATHMANN WILLIAM D',\n",
      " 'HAEDICKE MARK E',\n",
      " 'BOWEN JR RAYMOND M',\n",
      " 'GILLIS JOHN',\n",
      " 'FITZGERALD JAY L',\n",
      " 'MORAN MICHAEL P',\n",
      " 'REDMOND BRIAN L',\n",
      " 'BAZELIDES PHILIP J',\n",
      " 'BELDEN TIMOTHY N',\n",
      " 'DURAN WILLIAM D',\n",
      " 'THORN TERENCE H',\n",
      " 'FASTOW ANDREW S',\n",
      " 'FOY JOE',\n",
      " 'CALGER CHRISTOPHER F',\n",
      " 'RICE KENNETH D',\n",
      " 'KAMINSKI WINCENTY J',\n",
      " 'LOCKHART EUGENE E',\n",
      " 'COX DAVID',\n",
      " 'OVERDYKE JR JERE C',\n",
      " 'PEREIRA PAULO V. FERRAZ',\n",
      " 'STABLER FRANK',\n",
      " 'SKILLING JEFFREY K',\n",
      " 'BLAKE JR. NORMAN P',\n",
      " 'SHERRICK JEFFREY B',\n",
      " 'PRENTICE JAMES',\n",
      " 'GRAY RODNEY',\n",
      " 'PICKERING MARK R',\n",
      " 'THE TRAVEL AGENCY IN THE PARK',\n",
      " 'NOLES JAMES L',\n",
      " 'KEAN STEVEN J',\n",
      " 'TOTAL',\n",
      " 'FOWLER PEGGY',\n",
      " 'WASAFF GEORGE',\n",
      " 'WHITE JR THOMAS E',\n",
      " 'CHRISTODOULOU DIOMEDES',\n",
      " 'ALLEN PHILLIP K',\n",
      " 'SHARP VICTORIA T',\n",
      " 'JAEDICKE ROBERT',\n",
      " 'WINOKUR JR. HERBERT S',\n",
      " 'BROWN MICHAEL',\n",
      " 'BADUM JAMES P',\n",
      " 'HUGHES JAMES A',\n",
      " 'REYNOLDS LAWRENCE',\n",
      " 'DIMICHELE RICHARD G',\n",
      " 'BHATNAGAR SANJAY',\n",
      " 'CARTER REBECCA C',\n",
      " 'BUCHANAN HAROLD G',\n",
      " 'YEAP SOON',\n",
      " 'MURRAY JULIA H',\n",
      " 'GARLAND C KEVIN',\n",
      " 'DODSON KEITH',\n",
      " 'YEAGER F SCOTT',\n",
      " 'HIRKO JOSEPH',\n",
      " 'DIETRICH JANET R',\n",
      " 'DERRICK JR. JAMES V',\n",
      " 'FREVERT MARK A',\n",
      " 'PAI LOU L',\n",
      " 'BAY FRANKLIN R',\n",
      " 'HAYSLETT RODERICK J',\n",
      " 'FUGH JOHN L',\n",
      " 'FALLON JAMES B',\n",
      " 'KOENIG MARK E',\n",
      " 'SAVAGE FRANK',\n",
      " 'IZZO LAWRENCE L',\n",
      " 'TILNEY ELIZABETH A',\n",
      " 'MARTIN AMANDA K',\n",
      " 'BUY RICHARD B',\n",
      " 'GRAMM WENDY L',\n",
      " 'CAUSEY RICHARD A',\n",
      " 'TAYLOR MITCHELL S',\n",
      " 'DONAHUE JR JEFFREY M',\n",
      " 'GLISAN JR BEN F']\n"
     ]
    }
   ],
   "source": [
    "names=[]\n",
    "for k, v in data_dict.iteritems():\n",
    "    names.append( k)\n",
    "pprint.pprint (names)"
   ]
  },
  {
   "cell_type": "code",
   "execution_count": 8,
   "metadata": {
    "collapsed": false
   },
   "outputs": [
    {
     "name": "stdout",
     "output_type": "stream",
     "text": [
      "{'bonus': 97343619,\n",
      " 'deferral_payments': 32083396,\n",
      " 'deferred_income': -27992891,\n",
      " 'director_fees': 1398517,\n",
      " 'email_address': 'NaN',\n",
      " 'exercised_stock_options': 311764000,\n",
      " 'expenses': 5235198,\n",
      " 'from_messages': 'NaN',\n",
      " 'from_poi_to_this_person': 'NaN',\n",
      " 'from_this_person_to_poi': 'NaN',\n",
      " 'loan_advances': 83925000,\n",
      " 'long_term_incentive': 48521928,\n",
      " 'other': 42667589,\n",
      " 'poi': False,\n",
      " 'restricted_stock': 130322299,\n",
      " 'restricted_stock_deferred': -7576788,\n",
      " 'salary': 26704229,\n",
      " 'shared_receipt_with_poi': 'NaN',\n",
      " 'to_messages': 'NaN',\n",
      " 'total_payments': 309886585,\n",
      " 'total_stock_value': 434509511}\n",
      "{'bonus': 'NaN',\n",
      " 'deferral_payments': 'NaN',\n",
      " 'deferred_income': 'NaN',\n",
      " 'director_fees': 'NaN',\n",
      " 'email_address': 'NaN',\n",
      " 'exercised_stock_options': 'NaN',\n",
      " 'expenses': 'NaN',\n",
      " 'from_messages': 'NaN',\n",
      " 'from_poi_to_this_person': 'NaN',\n",
      " 'from_this_person_to_poi': 'NaN',\n",
      " 'loan_advances': 'NaN',\n",
      " 'long_term_incentive': 'NaN',\n",
      " 'other': 362096,\n",
      " 'poi': False,\n",
      " 'restricted_stock': 'NaN',\n",
      " 'restricted_stock_deferred': 'NaN',\n",
      " 'salary': 'NaN',\n",
      " 'shared_receipt_with_poi': 'NaN',\n",
      " 'to_messages': 'NaN',\n",
      " 'total_payments': 362096,\n",
      " 'total_stock_value': 'NaN'}\n"
     ]
    }
   ],
   "source": [
    "pprint.pprint (data_dict[\"TOTAL\"], width=1)\n",
    "pprint.pprint (data_dict[\"THE TRAVEL AGENCY IN THE PARK\"])"
   ]
  },
  {
   "cell_type": "code",
   "execution_count": 9,
   "metadata": {
    "collapsed": false
   },
   "outputs": [
    {
     "data": {
      "text/plain": [
       "{'bonus': 'NaN',\n",
       " 'deferral_payments': 'NaN',\n",
       " 'deferred_income': 'NaN',\n",
       " 'director_fees': 'NaN',\n",
       " 'email_address': 'NaN',\n",
       " 'exercised_stock_options': 'NaN',\n",
       " 'expenses': 'NaN',\n",
       " 'from_messages': 'NaN',\n",
       " 'from_poi_to_this_person': 'NaN',\n",
       " 'from_this_person_to_poi': 'NaN',\n",
       " 'loan_advances': 'NaN',\n",
       " 'long_term_incentive': 'NaN',\n",
       " 'other': 362096,\n",
       " 'poi': False,\n",
       " 'restricted_stock': 'NaN',\n",
       " 'restricted_stock_deferred': 'NaN',\n",
       " 'salary': 'NaN',\n",
       " 'shared_receipt_with_poi': 'NaN',\n",
       " 'to_messages': 'NaN',\n",
       " 'total_payments': 362096,\n",
       " 'total_stock_value': 'NaN'}"
      ]
     },
     "execution_count": 9,
     "metadata": {},
     "output_type": "execute_result"
    }
   ],
   "source": [
    "data_dict.pop(\"TOTAL\")\n",
    "data_dict.pop(\"THE TRAVEL AGENCY IN THE PARK\")"
   ]
  },
  {
   "cell_type": "markdown",
   "metadata": {},
   "source": [
    "# Task 3: Create new feature(s)\n",
    "Store to my_dataset for easy export below."
   ]
  },
  {
   "cell_type": "code",
   "execution_count": 10,
   "metadata": {
    "collapsed": false
   },
   "outputs": [],
   "source": [
    "for key, value in data_dict.iteritems():\n",
    "    if value['bonus'] == \"NaN\" or value['salary'] == \"Nan\":\n",
    "        value['bonus_salary_R'] = \"NaN\"\n",
    "    else:\n",
    "        value['bonus_salary_R'] = float(value['bonus']) / float(value['salary'])\n",
    "\n",
    "for key, value in data_dict.iteritems():\n",
    "    if value[\"from_this_person_to_poi\"] == \"NaN\" or value[\"to_messages\"] == \"Nan\":\n",
    "        value['from_this_person_to_poi_percent'] = \"NaN\"\n",
    "    else:\n",
    "        value['from_this_person_to_poi_percent'] = float(value['from_this_person_to_poi'])*100 / float(value['to_messages'])\n",
    "\n",
    "for key, value in data_dict.iteritems():\n",
    "    if value[\"from_poi_to_this_person\"] == \"NaN\" or value[\"to_messages\"] == \"Nan\":\n",
    "        value['from_poi_to_this_person_Percent'] = \"NaN\"\n",
    "    else:\n",
    "        value['from_poi_to_this_person_Percent'] = float(value['from_poi_to_this_person'])*100 / float(value['to_messages'])"
   ]
  },
  {
   "cell_type": "code",
   "execution_count": 11,
   "metadata": {
    "collapsed": false
   },
   "outputs": [],
   "source": [
    "my_dataset = data_dict\n",
    "### Extract features and labels from dataset for local testing\n",
    "data = featureFormat(my_dataset, features_list, sort_keys = True)\n",
    "labels, features = targetFeatureSplit(data)"
   ]
  },
  {
   "cell_type": "code",
   "execution_count": 12,
   "metadata": {
    "collapsed": false
   },
   "outputs": [
    {
     "name": "stdout",
     "output_type": "stream",
     "text": [
      "<class 'pandas.core.frame.DataFrame'>\n",
      "Index: 144 entries, ALLEN PHILLIP K to YEAP SOON\n",
      "Data columns (total 24 columns):\n",
      "poi                                144 non-null bool\n",
      "salary                             94 non-null float64\n",
      "deferral_payments                  38 non-null float64\n",
      "total_payments                     123 non-null float64\n",
      "loan_advances                      3 non-null float64\n",
      "bonus                              81 non-null float64\n",
      "restricted_stock_deferred          17 non-null float64\n",
      "bonus_salary_R                     81 non-null float64\n",
      "restricted_stock_deferred          17 non-null float64\n",
      "deferred_income                    48 non-null float64\n",
      "total_stock_value                  125 non-null float64\n",
      "expenses                           94 non-null float64\n",
      "exercised_stock_options            101 non-null float64\n",
      "other                              91 non-null float64\n",
      "long_term_incentive                65 non-null float64\n",
      "restricted_stock                   109 non-null float64\n",
      "director_fees                      16 non-null float64\n",
      "to_messages                        86 non-null float64\n",
      "from_poi_to_this_person            86 non-null float64\n",
      "from_poi_to_this_person_Percent    86 non-null float64\n",
      "from_messages                      86 non-null float64\n",
      "from_this_person_to_poi            86 non-null float64\n",
      "from_this_person_to_poi_percent    86 non-null float64\n",
      "shared_receipt_with_poi            86 non-null float64\n",
      "dtypes: bool(1), float64(23)\n",
      "memory usage: 27.1+ KB\n"
     ]
    }
   ],
   "source": [
    "df = pd.DataFrame.from_dict(my_dataset, orient = 'index')\n",
    "df = df[features_list]\n",
    "df = df.replace('NaN', np.nan)\n",
    "df.info()"
   ]
  },
  {
   "cell_type": "markdown",
   "metadata": {},
   "source": [
    "# Task 4: Try a varity of classifiers\n",
    "Please name your classifier clf for easy export below.\n",
    "Note that if you want to do PCA or other multi-stage operations,\n",
    "you'll need to use Pipelines. For more info:\n",
    "http://scikit-learn.org/stable/modules/pipeline.html"
   ]
  },
  {
   "cell_type": "code",
   "execution_count": 13,
   "metadata": {
    "collapsed": false
   },
   "outputs": [],
   "source": [
    "# Provided to give you a starting point. Try a variety of classifiers.\n",
    "\n",
    "data = featureFormat(data_dict, features_list)\n",
    "labels, features = targetFeatureSplit(data)\n",
    "features_train, features_test, labels_train, labels_test = train_test_split(features, labels,  test_size=0.3, random_state=42)\n"
   ]
  },
  {
   "cell_type": "markdown",
   "metadata": {},
   "source": [
    "# Data Prep"
   ]
  },
  {
   "cell_type": "markdown",
   "metadata": {},
   "source": [
    "## Feature Scaling "
   ]
  },
  {
   "cell_type": "code",
   "execution_count": 14,
   "metadata": {
    "collapsed": false
   },
   "outputs": [],
   "source": [
    "#minmax scaler\n",
    "scaler = MinMaxScaler()\n",
    "scaled_feature_train = scaler.fit_transform(features_train)\n",
    "scaled_feature_test = scaler.fit_transform(features_test)"
   ]
  },
  {
   "cell_type": "markdown",
   "metadata": {},
   "source": [
    "# Algorithms"
   ]
  },
  {
   "cell_type": "markdown",
   "metadata": {},
   "source": [
    "## Grid Search Function"
   ]
  },
  {
   "cell_type": "code",
   "execution_count": 15,
   "metadata": {
    "collapsed": false
   },
   "outputs": [],
   "source": [
    "\n",
    "from __future__ import print_function, division\n",
    "import numpy as np\n",
    "import matplotlib.pyplot as plt\n",
    "from sklearn.datasets import load_digits\n",
    "from sklearn.model_selection import GridSearchCV\n",
    "from sklearn.pipeline import Pipeline\n",
    "from sklearn.svm import LinearSVC\n",
    "from sklearn.decomposition import PCA, NMF\n",
    "from sklearn.feature_selection import SelectKBest, chi2\n",
    "\n",
    "def GridSearch (pipe, param_grid, score_type, lenght, name):\n",
    "\n",
    "    reducer_labels = ['PCA',  'KBest(chi2)']\n",
    "    grid = GridSearchCV(pipe, cv=5, param_grid=param_grid,  scoring = score_type)\n",
    "    grid.fit(scaled_feature_train, labels_train)\n",
    "    from sklearn.metrics import classification_report\n",
    "    clf = grid.best_estimator_\n",
    "    print (grid.best_params_)\n",
    "\n",
    "\n",
    "    mean_scores = np.array(grid.cv_results_['mean_test_score'])\n",
    "    \n",
    "    mean_scores = mean_scores.reshape(lenght, -1, len(N_FEATURES_OPTIONS))\n",
    "    mean_scores = mean_scores.max(axis=0)\n",
    "    print (mean_scores)\n",
    "#     print (mean_scores_max)\n",
    "\n",
    "    bar_offsets = (np.arange(len(N_FEATURES_OPTIONS)) *\n",
    "                   (len(reducer_labels) + 1) + .5)\n",
    "\n",
    "    plt.figure()\n",
    "    COLORS = ['g', 'r']\n",
    "    for i, (label, reducer_scores) in enumerate(zip(reducer_labels, mean_scores)):\n",
    "        plt.bar(bar_offsets + i, reducer_scores, label=label, color=COLORS[i])\n",
    "\n",
    "    plt.title(\"PCA vs. KBest\")\n",
    "    plt.xlabel('Number of features')\n",
    "    plt.xticks(bar_offsets + len(reducer_labels)/3, N_FEATURES_OPTIONS)\n",
    "    plt.ylabel(name)\n",
    "    plt.ylim((0, 1))\n",
    "    plt.legend(loc='center left', bbox_to_anchor=(1, 0.5))\n",
    "    return plt.show()\n",
    "\n",
    "\n"
   ]
  },
  {
   "cell_type": "markdown",
   "metadata": {},
   "source": [
    "## Naive Bayes\n"
   ]
  },
  {
   "cell_type": "code",
   "execution_count": 13,
   "metadata": {
    "collapsed": false
   },
   "outputs": [
    {
     "name": "stdout",
     "output_type": "stream",
     "text": [
      "{'reduce_dim': SelectKBest(k=5, score_func=<function chi2 at 0x11824d848>), 'reduce_dim__k': 5}\n",
      "[[ 0.195  0.395  0.2    0.465]\n",
      " [ 0.93   0.93   0.93   0.93 ]]\n"
     ]
    },
    {
     "data": {
      "image/png": "[encoded data removed]",
      "text/plain": [
       "<matplotlib.figure.Figure at 0x119361ad0>"
      ]
     },
     "metadata": {},
     "output_type": "display_data"
    },
    {
     "name": "stderr",
     "output_type": "stream",
     "text": [
      "/Users/Haleh/anaconda/lib/python2.7/site-packages/sklearn/metrics/classification.py:1113: UndefinedMetricWarning: Precision is ill-defined and being set to 0.0 due to no predicted samples.\n",
      "  'precision', 'predicted', average, warn_for)\n"
     ]
    },
    {
     "name": "stdout",
     "output_type": "stream",
     "text": [
      "{'reduce_dim': PCA(copy=True, iterated_power=7, n_components=5, random_state=42,\n",
      "  svd_solver='auto', tol=0.0, whiten=False), 'reduce_dim__n_components': 5}\n",
      "[[ 0.295       0.25214286  0.14        0.26916667]\n",
      " [ 0.13046123  0.15610256  0.16717316  0.1779021 ]]\n"
     ]
    },
    {
     "data": {
      "image/png": "[encoded data removed]",
      "text/plain": [
       "<matplotlib.figure.Figure at 0x1193611d0>"
      ]
     },
     "metadata": {},
     "output_type": "display_data"
    }
   ],
   "source": [
    "#Naive Bayes\n",
    "\n",
    "pipe_GaussianNB = Pipeline([\n",
    "    ('reduce_dim', PCA()),\n",
    "    ('classify', GaussianNB())\n",
    "])\n",
    "N_FEATURES_OPTIONS = [5,10,15,20]\n",
    "lenght = 1\n",
    "param_grid_GaussianNB = [\n",
    "    {\n",
    "        'reduce_dim': [PCA(iterated_power=7, random_state=42)],\n",
    "        'reduce_dim__n_components': N_FEATURES_OPTIONS\n",
    "\n",
    "    },\n",
    "    {\n",
    "        'reduce_dim': [SelectKBest(chi2)],\n",
    "        'reduce_dim__k': N_FEATURES_OPTIONS\n",
    "    },\n",
    "]\n",
    "# GridSearch (pipe_GaussianNB, param_grid_GaussianNB, 'accuracy', lenght, 'Accuracy')\n",
    "GridSearch (pipe_GaussianNB, param_grid_GaussianNB, 'recall', lenght, 'Recall')\n",
    "GridSearch (pipe_GaussianNB, param_grid_GaussianNB, 'precision', lenght, 'Precision')"
   ]
  },
  {
   "cell_type": "markdown",
   "metadata": {
    "collapsed": true
   },
   "source": [
    "## Support Vector Machine (SVM)\n"
   ]
  },
  {
   "cell_type": "code",
   "execution_count": 14,
   "metadata": {
    "collapsed": false
   },
   "outputs": [
    {
     "name": "stdout",
     "output_type": "stream",
     "text": [
      "{'classify__C': 1000, 'reduce_dim': PCA(copy=True, iterated_power=7, n_components=20, random_state=None,\n",
      "  svd_solver='auto', tol=0.0, whiten=False), 'reduce_dim__n_components': 20}\n",
      "[[ 0.1    0.1    0.1    0.1  ]\n",
      " [ 0.295  0.1    0.24   0.39 ]]\n"
     ]
    },
    {
     "data": {
      "image/png": "[encoded data removed]",
      "text/plain": [
       "<matplotlib.figure.Figure at 0x11c728210>"
      ]
     },
     "metadata": {},
     "output_type": "display_data"
    },
    {
     "name": "stdout",
     "output_type": "stream",
     "text": [
      "Recall Is: None\n",
      "{'classify__C': 1000, 'reduce_dim': PCA(copy=True, iterated_power=7, n_components=20, random_state=None,\n",
      "  svd_solver='auto', tol=0.0, whiten=False), 'reduce_dim__n_components': 20}\n",
      "[[ 0.1    0.1    0.1    0.2  ]\n",
      " [ 0.1    0.225  0.2    0.335]]\n"
     ]
    },
    {
     "data": {
      "image/png": "[encoded data removed]",
      "text/plain": [
       "<matplotlib.figure.Figure at 0x11c818a10>"
      ]
     },
     "metadata": {},
     "output_type": "display_data"
    },
    {
     "name": "stdout",
     "output_type": "stream",
     "text": [
      "Precision Is: None\n"
     ]
    }
   ],
   "source": [
    "pipe_LinearSVC = Pipeline([\n",
    "    ('reduce_dim', PCA()),\n",
    "    ('classify', LinearSVC())\n",
    "])\n",
    "\n",
    "# LinearSVC(penalty='l2', loss='squared_hinge', dual=True, tol=0.0001, \n",
    "#           C=1.0, multi_class='ovr', fit_intercept=True, intercept_scaling=1, \n",
    "#           class_weight=None, verbose=0, random_state=None, max_iter=1000)\n",
    "\n",
    "N_FEATURES_OPTIONS = [5,10,15,20]\n",
    "C_OPTIONS = [1, 10, 100, 1000]\n",
    "lenght = len(C_OPTIONS)\n",
    "param_grid_LinearSVC = [\n",
    "    {\n",
    "        'reduce_dim': [PCA(iterated_power=7)],\n",
    "        'reduce_dim__n_components': N_FEATURES_OPTIONS,\n",
    "        'classify__C': C_OPTIONS\n",
    "        \n",
    "    },\n",
    "    {\n",
    "        'reduce_dim': [SelectKBest(chi2)],\n",
    "        'reduce_dim__k': N_FEATURES_OPTIONS,\n",
    "        'classify__C': C_OPTIONS\n",
    "    },\n",
    "]\n",
    "reducer_labels = ['PCA', 'KBest(chi2)']\n",
    "\n",
    "# GridSearch (pipe_LinearSVC, param_grid_LinearSVC, 'accuracy', lenght, 'Accuracy')\n",
    "print ( \"Recall Is:\" , GridSearch (pipe_LinearSVC, param_grid_LinearSVC, 'recall', lenght, 'Recall'))\n",
    "print ( \"Precision Is:\" , GridSearch (pipe_LinearSVC, param_grid_LinearSVC, 'precision', lenght, 'Precision'))\n"
   ]
  },
  {
   "cell_type": "markdown",
   "metadata": {
    "collapsed": false
   },
   "source": [
    "## Decision Trees"
   ]
  },
  {
   "cell_type": "code",
   "execution_count": 21,
   "metadata": {
    "collapsed": false,
    "scrolled": true
   },
   "outputs": [
    {
     "name": "stdout",
     "output_type": "stream",
     "text": [
      "{'reduce_dim': PCA(copy=True, iterated_power=7, n_components=16, random_state=None,\n",
      "  svd_solver='auto', tol=0.0, whiten=False), 'reduce_dim__n_components': 16}\n",
      "[[ 0.14   0.1    0.1    0.4  ]\n",
      " [ 0.3    0.14   0.365  0.365]]\n"
     ]
    },
    {
     "data": {
      "image/png": "[encoded data removed]",
      "text/plain": [
       "<matplotlib.figure.Figure at 0x1182211d0>"
      ]
     },
     "metadata": {},
     "output_type": "display_data"
    },
    {
     "name": "stdout",
     "output_type": "stream",
     "text": [
      "{'reduce_dim': SelectKBest(k=12, score_func=<function chi2 at 0x1135f0500>), 'reduce_dim__k': 12}\n",
      "[[ 0.21        0.1         0.2         0.17380952]\n",
      " [ 0.16666667  0.14        0.335       0.26333333]]\n"
     ]
    },
    {
     "data": {
      "image/png": "[encoded data removed]",
      "text/plain": [
       "<matplotlib.figure.Figure at 0x118446cd0>"
      ]
     },
     "metadata": {},
     "output_type": "display_data"
    }
   ],
   "source": [
    "N_FEATURES_OPTIONS = [5,10,15,20]\n",
    "\n",
    "# max_depth=[None, 1, 2, 3, 4]\n",
    "# class_weight=[None, 'balanced']\n",
    "param_grid_DT = [\n",
    "    {\n",
    "        'reduce_dim': [SelectKBest(chi2)],\n",
    "#         'classify__criterion':['gini', 'entropy'],\n",
    "#         'classify__max_depth':[None, 1, 2, 3, 4],\n",
    "#         'classify__class_weight':[None, 'balanced'],\n",
    "        'reduce_dim__k': N_FEATURES_OPTIONS#,\n",
    "#         'classify__max_features': max_features_options\n",
    "    },\n",
    "]\n",
    "\n",
    "pipe_DT = Pipeline([\n",
    "    ('reduce_dim', PCA()),\n",
    "    ('classify', DecisionTreeClassifier(splitter='random', random_state=42))\n",
    "])\n",
    "\n",
    "C_OPTIONS = [1, 10, 100, 1000]\n",
    "# max_features_options= ['auto', 'log2']\n",
    "# criterion=['gini', 'entropy']\n",
    "# max_depth=[None, 1, 2, 3, 4]\n",
    "# class_weight=[None, 'balanced']\n",
    "lenght = 1\n",
    "param_grid_DT = [\n",
    "    {\n",
    "        'reduce_dim': [PCA(iterated_power=7)],\n",
    "        'reduce_dim__n_components': N_FEATURES_OPTIONS#,\n",
    "#         'classify__max_features': max_features_options,\n",
    "#         'classify__criterion':['gini', 'entropy'],\n",
    "#         'classify__max_depth':[None, 1, 2, 3, 4],\n",
    "#         'classify__class_weight':[None, 'balanced']\n",
    "    },\n",
    "    {\n",
    "        'reduce_dim': [SelectKBest(chi2)],\n",
    "        'reduce_dim__k': N_FEATURES_OPTIONS#,\n",
    "#         'classify__max_features': max_features_options,\n",
    "#         'classify__max_depth':[None, 1, 2, 3, 4],\n",
    "#         'classify__class_weight':[None, 'balanced'],\n",
    "#         'classify__criterion':['gini', 'entropy']\n",
    "    },\n",
    "]\n",
    "reducer_labels = ['PCA', 'KBest(chi2)']\n",
    "\n",
    "# GridSearch (pipe_DT, param_grid_DT, 'accuracy', lenght, 'Accuracy')\n",
    "GridSearch (pipe_DT, param_grid_DT, 'recall', lenght, 'Recall')\n",
    "GridSearch (pipe_DT, param_grid_DT, 'precision', lenght, 'Precision')\n"
   ]
  },
  {
   "cell_type": "markdown",
   "metadata": {},
   "source": [
    "## LogisticRegression"
   ]
  },
  {
   "cell_type": "code",
   "execution_count": 17,
   "metadata": {
    "collapsed": false,
    "scrolled": true
   },
   "outputs": [
    {
     "name": "stdout",
     "output_type": "stream",
     "text": [
      "{'classify__C': 1000, 'reduce_dim': PCA(copy=True, iterated_power=7, n_components=20, random_state=None,\n",
      "  svd_solver='auto', tol=0.0, whiten=False), 'reduce_dim__n_components': 20}\n",
      "[[ 0.1    0.1    0.1    0.1  ]\n",
      " [ 0.1    0.1    0.1    0.195]]\n"
     ]
    },
    {
     "data": {
      "image/png": "[encoded data removed]",
      "text/plain": [
       "<matplotlib.figure.Figure at 0x11c94fd50>"
      ]
     },
     "metadata": {},
     "output_type": "display_data"
    },
    {
     "name": "stdout",
     "output_type": "stream",
     "text": [
      "{'classify__C': 1000, 'reduce_dim': PCA(copy=True, iterated_power=7, n_components=20, random_state=None,\n",
      "  svd_solver='auto', tol=0.0, whiten=False), 'reduce_dim__n_components': 20}\n",
      "[[ 0.1         0.1         0.1         0.1       ]\n",
      " [ 0.1         0.1         0.1         0.26333333]]\n"
     ]
    },
    {
     "data": {
      "image/png": "[encoded data removed]",
      "text/plain": [
       "<matplotlib.figure.Figure at 0x11c94fc50>"
      ]
     },
     "metadata": {},
     "output_type": "display_data"
    }
   ],
   "source": [
    "from sklearn.linear_model import LogisticRegression\n",
    "from sklearn.metrics import accuracy_score\n",
    "\n",
    "pipe_Regress = Pipeline([\n",
    "    ('reduce_dim', PCA()),\n",
    "    ('classify', LogisticRegression())\n",
    "])\n",
    "\n",
    "N_FEATURES_OPTIONS = [5, 10, 15, 20]\n",
    "C_OPTIONS = [1, 10, 100, 1000]\n",
    "# L_options =['l1','l2']\n",
    "lenght = len(C_OPTIONS)\n",
    "\n",
    "param_grid_Regress = [\n",
    "    {\n",
    "        'reduce_dim': [PCA(iterated_power=7)],\n",
    "        'reduce_dim__n_components': N_FEATURES_OPTIONS,\n",
    "        'classify__C': C_OPTIONS#,\n",
    "#         'classify__penalty' : L_options\n",
    "    },\n",
    "    {\n",
    "        'reduce_dim': [SelectKBest(chi2)],\n",
    "        'reduce_dim__k': N_FEATURES_OPTIONS,\n",
    "        'classify__C': C_OPTIONS#,\n",
    "#         'classify__penalty' : L_options\n",
    "    },\n",
    "]\n",
    "reducer_labels = ['PCA', 'KBest(chi2)']\n",
    "\n",
    "# GridSearch (pipe_Regress, param_grid_Regress, 'accuracy', lenght, 'Accuracy')\n",
    "GridSearch (pipe_Regress, param_grid_Regress, 'recall', lenght, 'Recallh')\n",
    "GridSearch (pipe_Regress, param_grid_Regress, 'precision', lenght, 'Precision')\n"
   ]
  },
  {
   "cell_type": "code",
   "execution_count": 48,
   "metadata": {
    "collapsed": false
   },
   "outputs": [
    {
     "name": "stdout",
     "output_type": "stream",
     "text": [
      "Best parameters are:  DecisionTreeClassifier(class_weight=None, criterion='gini', max_depth=1,\n",
      "            max_features='auto', max_leaf_nodes=None,\n",
      "            min_impurity_split=1e-07, min_samples_leaf=1,\n",
      "            min_samples_split=2, min_weight_fraction_leaf=0.0,\n",
      "            presort=False, random_state=42, splitter='best')\n"
     ]
    }
   ],
   "source": [
    "select = SelectKBest(chi2, k=20)\n",
    "\n",
    "selected_feature_train = select.fit_transform(scaled_feature_train, labels_train)\n",
    "selected_feature_test = select.transform(scaled_feature_test)\n",
    "\n",
    "\n",
    "clf_DT= DecisionTreeClassifier(splitter='best', random_state=42)\n",
    "\n",
    "max_features_options= ['auto', 'log2']\n",
    "criterion=['gini', 'entropy']\n",
    "max_depth=[None, 1, 2, 3, 4]\n",
    "class_weight=[None, 'balanced']\n",
    "param_grid_DT = [\n",
    "    {\n",
    "        'criterion':['gini', 'entropy'],\n",
    "        'max_depth':[None, 1, 2, 3, 4],\n",
    "        'class_weight':[None, 'balanced'],\n",
    "        'max_features': max_features_options\n",
    "    },\n",
    "]\n",
    "\n",
    "grid = GridSearchCV(clf_DT, cv=5, param_grid=param_grid_DT)\n",
    "clf = grid.fit(selected_feature_train, labels_train)\n",
    "print \n",
    "labels_predictions = grid.predict(selected_feature_test)\n",
    "gbe = grid.best_estimator_\n",
    "print (\"Best parameters are: \", gbe)\n",
    "\n"
   ]
  },
  {
   "cell_type": "code",
   "execution_count": 13,
   "metadata": {
    "collapsed": false
   },
   "outputs": [
    {
     "name": "stdout",
     "output_type": "stream",
     "text": [
      "Best parameters are:  Pipeline(steps=[('reduce_dim', SelectKBest(k=5, score_func=<function chi2 at 0x10c9e2848>)), ('classify', DecisionTreeClassifier(class_weight=None, criterion='gini', max_depth=None,\n",
      "            max_features=None, max_leaf_nodes=None,\n",
      "            min_impurity_split=1e-07, min_samples_leaf=1,\n",
      "            min_samples_split=2, min_weight_fraction_leaf=0.0,\n",
      "            presort=False, random_state=42, splitter='random'))])\n",
      "'The ' 5  features selected and their importances:\n",
      "feature no. 1: total_stock_value (0.326719294617) (0.249556358986)\n",
      "feature no. 2: salary (0.245478935627) (0.58009421758)\n",
      "feature no. 3: expenses (0.215963811469) (0.00429259908966)\n",
      "feature no. 4: exercised_stock_options (0.211837958287) (0.148314606742)\n",
      "feature no. 5: director_fees (0.0) (0.149097605777)\n",
      "this is :              precision    recall  f1-score   support\n",
      "\n",
      "        0.0       0.86      0.83      0.85        36\n",
      "        1.0       0.25      0.29      0.27         7\n",
      "\n",
      "avg / total       0.76      0.74      0.75        43\n",
      "\n"
     ]
    }
   ],
   "source": [
    "from sklearn.feature_selection import SelectKBest\n",
    "\n",
    "### Store to my_dataset for easy export below.\n",
    "my_dataset = data_dict\n",
    "\n",
    "pipe_DT = Pipeline([\n",
    "    ('reduce_dim', SelectKBest()),\n",
    "    ('classify', DecisionTreeClassifier(splitter='random', random_state=42))\n",
    "])\n",
    "\n",
    "N_FEATURES_OPTIONS = [5,10,15, 20]\n",
    "C_OPTIONS = [1, 10, 100, 1000]\n",
    "# max_features_options= ['auto', 'log2']\n",
    "# criterion=['gini', 'entropy']\n",
    "# max_depth=[None, 1, 2, 3, 4]\n",
    "# class_weight=[None, 'balanced']\n",
    "param_grid_DT = [\n",
    "    {\n",
    "        'reduce_dim': [SelectKBest(chi2)],\n",
    "#         'classify__criterion':['gini', 'entropy'],\n",
    "#         'classify__max_depth':[None, 1, 2, 3, 4],\n",
    "#         'classify__class_weight':[None, 'balanced'],\n",
    "        'reduce_dim__k': N_FEATURES_OPTIONS#,\n",
    "#         'classify__max_features': max_features_options\n",
    "    },\n",
    "]\n",
    "# reducer_labels = [ 'KBest(chi2)']\n",
    "\n",
    "grid = GridSearchCV(pipe_DT, cv=5, param_grid=param_grid_DT)\n",
    "grid.fit(scaled_feature_train, labels_train)\n",
    "\n",
    "labels_predictions = grid.predict(scaled_feature_test)\n",
    "clf = grid.best_estimator_\n",
    "print (\"Best parameters are: \", clf)\n",
    "\n",
    "# Print features selected and their importances\n",
    "features_selected=[features_list[i+1] for i in clf.named_steps['reduce_dim'].get_support(indices=True)]\n",
    "scores = clf.named_steps['reduce_dim'].scores_\n",
    "importances = clf.named_steps['classify'].feature_importances_\n",
    "import numpy as np\n",
    "indices = np.argsort(importances)[::-1]\n",
    "print (\"'The '\", len(features_selected), \" features selected and their importances:\")\n",
    "for i in range(len(features_selected)):\n",
    "    print (\"feature no. {}: {} ({}) ({})\".format(i+1,features_selected[indices[i]],importances[indices[i]], scores[indices[i]]))\n",
    "\n",
    "# Print classification report (focus on precision and recall)\n",
    "report = classification_report( labels_test, labels_predictions )\n",
    "print(\"this is :\", report)\n",
    "\n",
    "### Task 6: Dump your classifier, dataset, and features_list so anyone can\n",
    "### check your results. You do not need to change anything below, but make sure\n",
    "### that the version of poi_id.py that you submit can be run on its own and\n",
    "### generates the necessary .pkl files for validating your results.\n",
    "\n",
    "dump_classifier_and_data(clf, my_dataset, features_list)\n",
    "from tester import dump_classifier_and_data\n",
    "from tester import main\n"
   ]
  },
  {
   "cell_type": "markdown",
   "metadata": {},
   "source": [
    "# Validation"
   ]
  },
  {
   "cell_type": "markdown",
   "metadata": {},
   "source": [
    "## KFold"
   ]
  },
  {
   "cell_type": "code",
   "execution_count": null,
   "metadata": {
    "collapsed": false
   },
   "outputs": [],
   "source": [
    "# from sklearn.model_selection import KFold\n",
    "# kf = KFold(n_splits= ... , shuffle=True )\n",
    "# kf.get_n_splits(X)\n",
    "# print(kf)"
   ]
  },
  {
   "cell_type": "markdown",
   "metadata": {},
   "source": [
    "## GridSearchCV"
   ]
  },
  {
   "cell_type": "code",
   "execution_count": null,
   "metadata": {
    "collapsed": true
   },
   "outputs": [],
   "source": [
    "from sklearn import svm \n",
    "from sklearn.model_selection import GridSearchCV\n",
    "# adjust:\n",
    "# parameters = {'kernel':('linear', 'rbf'), 'C':[1, 10]}\n",
    "# clf = grid_search.GridSearchCV(svr, parameters)\n",
    "# clf.fit(features, labels)"
   ]
  },
  {
   "cell_type": "code",
   "execution_count": null,
   "metadata": {
    "collapsed": false
   },
   "outputs": [],
   "source": [
    "### Task 6: Dump your classifier, dataset, and features_list so anyone can\n",
    "### check your results. You do not need to change anything below, but make sure\n",
    "### that the version of poi_id.py that you submit can be run on its own and\n",
    "### generates the necessary .pkl files for validating your results.\n",
    "\n",
    "dump_classifier_and_data(clf, my_dataset, features_list)"
   ]
  },
  {
   "cell_type": "code",
   "execution_count": null,
   "metadata": {
    "collapsed": true
   },
   "outputs": [],
   "source": []
  },
  {
   "cell_type": "code",
   "execution_count": null,
   "metadata": {
    "collapsed": true
   },
   "outputs": [],
   "source": []
  }
 ],
 "metadata": {
  "kernelspec": {
   "display_name": "Python 2",
   "language": "python",
   "name": "python2"
  },
  "language_info": {
   "codemirror_mode": {
    "name": "ipython",
    "version": 2
   },
   "file_extension": ".py",
   "mimetype": "text/x-python",
   "name": "python",
   "nbconvert_exporter": "python",
   "pygments_lexer": "ipython2",
   "version": "2.7.13"
  }
 },
 "nbformat": 4,
 "nbformat_minor": 2
}
