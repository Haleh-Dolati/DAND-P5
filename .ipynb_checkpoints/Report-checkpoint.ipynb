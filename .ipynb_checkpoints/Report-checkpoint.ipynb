{
 "cells": [
  {
   "cell_type": "markdown",
   "metadata": {
    "collapsed": true
   },
   "source": [
    "## Project Overview\n",
    "Enron Corporation was an American energy, commodities, and services company, which was formed in 1985 by, Kenneth Lay. This corporation filed for bankruptcy on December 2001. Enron case is famous for being the largest bankruptcy reorganization the biggest audit failure in American history at that time. <br>\n",
    "\n",
    "In this project, we are asked to use the Enron email data and identify employees who may have committed fraud and were involved in the Enron scam, using machine learning. Machine learning algorythms are very usefull to accomplish these kinds of goals, because they can produce  complex models faster and more accurate than humans.<br>\n",
    "The goal is to make a model that uses some financial and email to identify Persons of Interest  among all executives. The Person of Interest (POI) is defined as “individuals who were indicted, reached a settlement or plea deal with the government, or testified in exchange for prosecution immunity”<br>\n",
    "\n",
    "The mentioned informations are avaiable in Enron Email data which became public after the federal investigation of Enro scandal. This data has financial and email features as well as POI label which shoes whether an executive was a POI as well. The features are: <br>\n",
    "$\\qquad$ **Financial features:** \n",
    "salary, deferral_payments, total_payments, loan_advances, bonus, restricted_stock_deferred, deferred_income, total_stock_value, expenses, exercised_stock_options, other', long_term_incentive, restricted_stock, director_fees <br>\n",
    "$\\qquad$ **Email features:** to_messages, email_address, from_poi_to_this_person, from_messages, from_this_person_to_poi, shared_receipt_with_poi <br>\n"
   ]
  },
  {
   "cell_type": "markdown",
   "metadata": {},
   "source": [
    "## Data Cleaning and Outliers\n",
    "The first step is to get knowing the data and find and handle possible problems. First, I took a look at the name of the executives. Over all thereare 146 executves in this data which 18 of them are POIs. The last two names **Total** and **The Travel Agency In The Park** are different from the rest. Total is the sum of all financial features therefore does not represent any executive just like The Travel Agency In The Park.  Therefore, I excluded them from the data. \n",
    "\n",
    "|Baxter John C|Chan Ronnie|Detmering Timothy J|Belfer Robert|\n",
    "| -------- |:-------------| :-----| \n",
    "|**Metts Mark**|**Kitchen Louise**|**Berberian David**|**Elliott Steven**|\n",
    "|**Cordes William R**|**Shankman Jeffrey A**|**Powers William**|**Wakeham John**|\n",
    "|**Hannon Kevin P**|**Wodraska John**|**Gold Joseph**|**Bannantine James M**|\n",
    "|**Mordaunt Kristina M**|**Bergsieker Richard P**|**Urquhart John A**|**Duncan John H**|\n",
    "|**Meyer Rockford G**|**Mcmahon Jeffrey**|**Bibi Philippe A**|**Shapiro Richard S**|\n",
    "|**Horton Stanley C**|**Rieker Paula H**|**Sherriff John R**|**Shelby Rex**|\n",
    "|**Piper Gregory F**|**Whaley David A**|**Beck Sally W**|**Lemaistre Charles**|\n",
    "|**Humphrey Gene E**|**Umanoff Adam S**|**Haug David L**|**Deffner Joseph M**|\n",
    "|**Blachman Jeremy M**|**Echols John B**|**Kishkill Joseph G**|**Whalley Lawrence G**|\n",
    "|**Sunde Martin**|**Mendelsohn John**|**Gibbs Dana R**|**Hickerson Gary J**|\n",
    "|**Lowry Charles P**|**Cline Kenneth W**|**Piro Jim**|**Mcconnell Michael S**|\n",
    "|**Colwell Wesley**|**Lewis Richard**|**Delainey David W**|**Sullivan-Shaklovitz Colleen**|\n",
    "|**Muller Mark S**|**Hayes Robert E**|**Mccarty Danny J**|**Wrobel Bruce**|\n",
    "|**Jackson Charlene R**|**Westfahl Richard K**|**Kopper Michael J**|**Lindholm Tod A**|\n",
    "|**Walters Gareth W**|**Leff Daniel P**|**Meyer Jerome J**|**Lay Kenneth L**|\n",
    "|**Walls Jr Robert H**|**Lavorato John J**|**Gathmann William D**|**Haedicke Mark E**|\n",
    "|**Butts Robert H**|**Olson Cindy K**|**Bowen Jr Raymond M**|**Gillis John**|\n",
    "|**Mcdonald Rebecca**|**Fitzgerald Jay L**|**Fitzgerald Jay L**|**Redmond Brian L**|\n",
    "|**Cumberland Michael S**|**Moran Michael P**|**Bazelides Philip J**|**Belden Timothy N**|\n",
    "|**Gahn Robert S**|**Mcclellan George**|**Duran William D**|**Thorn Terence H**|\n",
    "|**Hermann Robert J**|**Fastow Andrew S**|**Foy Joe**|**Fowler Peggy**|\n",
    "|**Scrimshaw Matthew**|**Kean Steven J**|**Wasaff George**|**White Jr Thomas E**|\n",
    "|**Calger Christopher F**|**Rice Kenneth D**|**Christodoulou Diomedes**|**Allen Phillip K**|\n",
    "|**Kaminski Wincenty J**|**Sharp Victoria T**|**Jaedicke Robert**|**Brown Michael**|\n",
    "|**Lockhart Eugene E**|**Winokur Jr. Herbert S**|**Badum James P**|**Hughes James A**|\n",
    "|**Cox David**|**Overdyke Jr Jere C**|**Reynolds Lawrence**|**Dimichele Richard G**|\n",
    "|**Pereira Paulo V. Ferraz**|**Bhatnagar Sanjay**|**Carter Rebecca C**|**Yeap Soon**|\n",
    "|**Stabler Frank**|**Buchanan Harold G**|**Murray Julia H**|**Garland C Kevin**|\n",
    "|**Skilling Jeffrey K**|**Blake Jr. Norman P**|**Dodson Keith**|**Yeager F Scott**|\n",
    "|**Sherrick Jeffrey B**|**Hirko Joseph**|**Dietrich Janet R**|**Prentice James**|\n",
    "|**Gray Rodney**|**Pai Lou L'**|**Bay Franklin R**|**Derrick Jr. James V**|\n",
    "|**Pickering Mark R**|**Hayslett Roderick J**|**Fugh John L**|**Frevert Mark A**|\n",
    "|**Noles James L**|**Fallon James B**|**Koenig Mark E**|**Martin Amanda K**|\n",
    "|**Izzo Lawrence L**|**Tilney Elizabeth A**|**Gramm Wendy L'**|**Causey Richard A**|\n",
    "|**Buy Richard B**|**Taylor Mitchell S**|**Donahue Jr Jeffrey M**|**Glisan Jr Ben F**|\n",
    "|**Savage Frank**|**<font color='red'>The Travel Agency In The Park</font>**|**<font color='red'>Total</font>**|\n"
   ]
  },
  {
   "cell_type": "markdown",
   "metadata": {},
   "source": [
    "Each executive is presented by 21 features. I went through them and using my intuition and some online research about the Enron scandal, I excluded some of them. At the end, I chose a mixture of financial and email data to be used in the feature selection part. This table shows all the available features and the one that I used.In the table below, the red ones are the excluded ones:\n",
    "\n",
    "|Feature's Name|Included? |Feature's Name|Included? |\n",
    "| -------- |:-------------:|-------- |:-------------:|\n",
    "|bonus|Yes|deferral_payments|Yes|\n",
    "|deferred_income|No|director_fees|No|\n",
    "|email_address|No|exercised_stock_options|Yes|\n",
    "|expenses|No|from_messages|No|\n",
    "|from_poi_to_this_person|Yes|from_this_person_to_poi|Yes|\n",
    "|loan_advances|No|long_term_incentive|No|\n",
    "|other|No|restricted_stock|No|\n",
    "|restricted_stock_deferred|Yes|salary|Yes|\n",
    "|shared_receipt_with_poi|No|total_payments|Yes|\n",
    "|total_stock_value|No|to_messages|No |\n",
    "\n"
   ]
  },
  {
   "cell_type": "markdown",
   "metadata": {},
   "source": [
    "I also looked into each features values to see whether there are missing values or anything out of ordinary. Of course there are features with very different value range, specially in financial features. However, I'm not going to exclude those extreamly high values because many of them like extreamly high bonuses actually can be an indicator of the fraude. \n",
    "Another step that I took was scaling the data. As mentioned before, there ae two types of variables: financial and email. Email data has smaller numbers compared to financial data. Therefore, I've decided to scaled them all.  \n",
    "\n",
    "|Features|Values |Features|Values |\n",
    "| -------- |:-------------|-------- |:-------------|\n",
    "|poi|144 non-null|bonus|81 non-null |\n",
    "|salary|94 non-null |salary_to_avg|94 non-null |\n",
    "|deferral_payments|38 non-null |total_payments|123 non-null |\n",
    "|restricted_stock_deferred|17 non-null |exercised_stock_options|101 non-null |\n",
    "|from_poi_to_this_person|86 non-null |from_this_person_to_poi|86 non-null |\n",
    "\n",
    "In addiiton to the mentioned features, I made a new feature by dividing the salary of each executive to the average of all salaries. This ratio shows how ones salari was way above the average."
   ]
  },
  {
   "cell_type": "markdown",
   "metadata": {},
   "source": [
    "after the mentioned steps, I tried two classifiers: "
   ]
  },
  {
   "cell_type": "code",
   "execution_count": null,
   "metadata": {
    "collapsed": true
   },
   "outputs": [],
   "source": []
  },
  {
   "cell_type": "code",
   "execution_count": null,
   "metadata": {
    "collapsed": true
   },
   "outputs": [],
   "source": []
  },
  {
   "cell_type": "code",
   "execution_count": null,
   "metadata": {
    "collapsed": true
   },
   "outputs": [],
   "source": []
  },
  {
   "cell_type": "code",
   "execution_count": null,
   "metadata": {
    "collapsed": true
   },
   "outputs": [],
   "source": []
  }
 ],
 "metadata": {
  "kernelspec": {
   "display_name": "Python 2",
   "language": "python",
   "name": "python2"
  },
  "language_info": {
   "codemirror_mode": {
    "name": "ipython",
    "version": 2
   },
   "file_extension": ".py",
   "mimetype": "text/x-python",
   "name": "python",
   "nbconvert_exporter": "python",
   "pygments_lexer": "ipython2",
   "version": "2.7.13"
  }
 },
 "nbformat": 4,
 "nbformat_minor": 2
}
