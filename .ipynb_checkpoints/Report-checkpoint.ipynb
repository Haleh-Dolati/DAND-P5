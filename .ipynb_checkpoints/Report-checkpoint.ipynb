{
 "cells": [
  {
   "cell_type": "markdown",
   "metadata": {},
   "source": [
    "Enron Corporation was an American energy, commodities, and services company, which was formed in 1985 by, Kenneth Lay. Enron Corporation filed for bankruptcy on December 2001. Enron case is famous for being the largest bankruptcy reorganization in American history the biggest audit failure at that time. \n",
    "In this project, we are asked to use the Enron email data and identify employees who may have committed fraud and were involved in the Enron scam (AKA Persons of Interest). The Person of Interest (POI) is defined as “individuals who were indicted, reached a settlement or plea deal with the government, or testified in exchange for prosecution immunity”\n",
    "The Enron Email data has two types of features: <br>\n",
    "•\tFinancial features: ['salary', 'deferral_payments', 'total_payments', 'loan_advances', 'bonus', 'restricted_stock_deferred', 'deferred_income', 'total_stock_value', 'expenses', 'exercised_stock_options', 'other', 'long_term_incentive', 'restricted_stock', 'director_fees'] <br>\n",
    "•\tEmail features: ['to_messages', 'email_address', 'from_poi_to_this_person', 'from_messages', 'from_this_person_to_poi', 'shared_receipt_with_poi'] which is a text string)<br>\n",
    "•\tPOI label: [‘poi’] <br>\n",
    "The goal is to use \n"
   ]
  },
  {
   "cell_type": "code",
   "execution_count": null,
   "metadata": {
    "collapsed": true
   },
   "outputs": [],
   "source": []
  }
 ],
 "metadata": {
  "kernelspec": {
   "display_name": "Python 2",
   "language": "python",
   "name": "python2"
  },
  "language_info": {
   "codemirror_mode": {
    "name": "ipython",
    "version": 2
   },
   "file_extension": ".py",
   "mimetype": "text/x-python",
   "name": "python",
   "nbconvert_exporter": "python",
   "pygments_lexer": "ipython2",
   "version": "2.7.13"
  }
 },
 "nbformat": 4,
 "nbformat_minor": 2
}
